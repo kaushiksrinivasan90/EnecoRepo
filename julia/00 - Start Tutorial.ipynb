{
 "cells": [
  {
   "cell_type": "markdown",
   "metadata": {},
   "source": [
    "# An IJulia Notebook"
   ]
  },
  {
   "cell_type": "markdown",
   "metadata": {},
   "source": [
    "This is an **IJulia notebook**. It can mix code, multimedia results, headings, documentation, equations like $\\sqrt{\\int x^2 dx}$, and even interactive widgets."
   ]
  },
  {
   "cell_type": "markdown",
   "metadata": {},
   "source": [
    "# Running Julia code\n",
    "\n",
    "In order to run Julia code, select the cell below and press Ctrl-Enter. "
   ]
  },
  {
   "cell_type": "code",
   "execution_count": 1,
   "metadata": {
    "collapsed": false
   },
   "outputs": [
    {
     "data": {
      "text/plain": [
       "2"
      ]
     },
     "execution_count": 1,
     "metadata": {},
     "output_type": "execute_result"
    }
   ],
   "source": [
    "1+1       # Try changing the numbers and press Ctrl-Enter again."
   ]
  },
  {
   "cell_type": "code",
   "execution_count": 2,
   "metadata": {
    "collapsed": false
   },
   "outputs": [
    {
     "data": {
      "text/plain": [
       "0.3774322332475404"
      ]
     },
     "execution_count": 2,
     "metadata": {},
     "output_type": "execute_result"
    }
   ],
   "source": [
    "rand()    # Press Ctrl-Enter repeatedly to generate new random numbers."
   ]
  },
  {
   "cell_type": "markdown",
   "metadata": {},
   "source": [
    "## Julia and IJulia examples:"
   ]
  },
  {
   "cell_type": "markdown",
   "metadata": {},
   "source": [
    "* [Julia Basics](Basics.ipynb)\n",
    "* [Plotting in Julia](Plotting in Julia.ipynb)\n",
    "* [Multiple Dispatch](Multiple Dispatch.ipynb)\n",
    "* [Calling C and Python](Calling C and Python.ipynb)\n",
    "* [Interactive Widgets](Interactive Widgets.ipynb)\n",
    "* [Metaprogramming](Metaprogramming.ipynb)"
   ]
  },
  {
   "cell_type": "markdown",
   "metadata": {},
   "source": [
    "These examples have been taken from [Steve Johnson's talk at EuroSciPy 2014](https://github.com/stevengj/Julia-EuroSciPy14).\n",
    "\n",
    "Go ahead and modify the tutorial notebooks to try out different examples. The entire tutorial folder gets refreshed with every login."
   ]
  }
 ],
 "metadata": {
  "kernelspec": {
   "display_name": "Julia 0.4.6",
   "language": "julia",
   "name": "julia-0.4"
  },
  "language": "Julia",
  "language_info": {
   "file_extension": ".jl",
   "mimetype": "application/julia",
   "name": "julia",
   "version": "0.4.6"
  }
 },
 "nbformat": 4,
 "nbformat_minor": 0
}
