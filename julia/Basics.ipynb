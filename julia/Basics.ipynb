{
 "cells": [
  {
   "cell_type": "markdown",
   "metadata": {},
   "source": [
    "# Julia Basics"
   ]
  },
  {
   "cell_type": "markdown",
   "metadata": {},
   "source": [
    "Julia is a dynamic language.  You don't need type declarations, and can change variable types dynamically and interactively.\n",
    "\n",
    "For working with simple numbers, arrays, and strings, its syntax is *superficially* similar to Matlab, Python, and other popular languages.\n",
    "\n",
    "In order to execute the \"In\" cells, select the cell and press Shift-Enter, or press the Play button above. To run the entire notebook, navigate to Cell and then click Run All."
   ]
  },
  {
   "cell_type": "code",
   "execution_count": 1,
   "metadata": {
    "collapsed": false
   },
   "outputs": [
    {
     "data": {
      "text/plain": [
       "10x300 Array{Float64,2}:\n",
       " 0.869507  0.243159  0.0201616  0.81019    …  0.273827  0.342259  0.204279\n",
       " 0.361851  0.202724  0.0670079  0.967568      0.207658  0.816746  0.671633\n",
       " 0.287871  0.645113  0.908071   0.381757      0.865827  0.741382  0.130677\n",
       " 0.849317  0.697758  0.490526   0.419591      0.102024  0.493039  0.222532\n",
       " 0.354665  0.515088  0.73666    0.315745      0.37893   0.334827  0.100661\n",
       " 0.567444  0.496067  0.30855    0.0997551  …  0.645433  0.457246  0.959145\n",
       " 0.14075   0.411674  0.241092   0.461031      0.563471  0.220582  0.928701\n",
       " 0.521692  0.232668  0.0142714  0.702508      0.307933  0.825728  0.435597\n",
       " 0.535694  0.118954  0.0773715  0.513155      0.527849  0.82592   0.407028\n",
       " 0.709503  0.638316  0.376756   0.191771      0.932726  0.221194  0.904818"
      ]
     },
     "execution_count": 1,
     "metadata": {},
     "output_type": "execute_result"
    }
   ],
   "source": [
    "A = rand(10,300)"
   ]
  },
  {
   "cell_type": "markdown",
   "metadata": {},
   "source": [
    "It has all of the usual built-in Matlab/Numpy-like linear-algebra and vector functions:"
   ]
  },
  {
   "cell_type": "code",
   "execution_count": 2,
   "metadata": {
    "collapsed": false
   },
   "outputs": [
    {
     "data": {
      "text/plain": [
       "300-element Array{Float64,1}:\n",
       " -5.96199\n",
       " -6.03294\n",
       " -6.03592\n",
       " -5.95598\n",
       " -5.96212\n",
       " -6.10758\n",
       " -6.00477\n",
       " -5.97115\n",
       " -5.92993\n",
       " -5.96419\n",
       " -5.98698\n",
       " -6.05901\n",
       " -6.01281\n",
       "  ⋮      \n",
       " -6.02509\n",
       " -5.97969\n",
       " -4.96767\n",
       " -4.96818\n",
       " -4.96968\n",
       " -4.96822\n",
       " -4.96744\n",
       " -5.07064\n",
       " -4.96373\n",
       " -4.98506\n",
       " -4.98187\n",
       " -5.04031"
      ]
     },
     "execution_count": 2,
     "metadata": {},
     "output_type": "execute_result"
    }
   ],
   "source": [
    "b = rand(10)\n",
    "x = A \\ b\n",
    "B = A' * A\n",
    "erf(eigvals(B)) - 2x.^2 + 4x - 6"
   ]
  },
  {
   "cell_type": "markdown",
   "metadata": {},
   "source": [
    "Complex numbers and arbitrary-precision arithmetic (via MPFR), of course."
   ]
  },
  {
   "cell_type": "code",
   "execution_count": 3,
   "metadata": {
    "collapsed": false
   },
   "outputs": [
    {
     "data": {
      "text/plain": [
       "-2.703494560307422464769480266827091348467753695567661661019265514673434246483996e+01 - 3.851153334811777536563337123053124569704160846091637003157728595256494186490506im"
      ]
     },
     "execution_count": 3,
     "metadata": {},
     "output_type": "execute_result"
    }
   ],
   "source": [
    "cos(big(3 + 4im))"
   ]
  },
  {
   "cell_type": "markdown",
   "metadata": {},
   "source": [
    "## Unicode"
   ]
  },
  {
   "cell_type": "markdown",
   "metadata": {},
   "source": [
    "All strings are UTF-8 encoded Unicode by default (UTF-16 and UTF-32 also supported):"
   ]
  },
  {
   "cell_type": "code",
   "execution_count": 4,
   "metadata": {
    "collapsed": false
   },
   "outputs": [
    {
     "data": {
      "text/plain": [
       "3-element Array{SubString{UTF8String},1}:\n",
       " \" is\"    \n",
       " \" a\"     \n",
       " \" letter\""
      ]
     },
     "execution_count": 4,
     "metadata": {},
     "output_type": "execute_result"
    }
   ],
   "source": [
    "matchall(r\"\\s[a-z]+\", \"α is a Grëék letter\") # regex search of a Unicode string"
   ]
  },
  {
   "cell_type": "markdown",
   "metadata": {},
   "source": [
    "Like Python 3, variable names can be Unicode, but Julia allows a somewhat wider range of codepoints in identifiers, which can be typed by LaTeX-like tab-completion *\\alpha[TAB]\\hat[TAB]\\_2[TAB]\\prime*."
   ]
  },
  {
   "cell_type": "code",
   "execution_count": 5,
   "metadata": {
    "collapsed": false
   },
   "outputs": [
    {
     "data": {
      "text/plain": [
       "7.3820020773540256e-34"
      ]
     },
     "execution_count": 5,
     "metadata": {},
     "output_type": "execute_result"
    }
   ],
   "source": [
    "α̂₂′ = 7\n",
    "ħ = 6.62606957e-34 / 2π\n",
    "ẋ = ħ * α̂₂′"
   ]
  },
  {
   "cell_type": "markdown",
   "metadata": {},
   "source": [
    "Unlike Python 3, Unicode math operators are parsed as infix operators, which are available for user-defined meanings:"
   ]
  },
  {
   "cell_type": "code",
   "execution_count": 6,
   "metadata": {
    "collapsed": false
   },
   "outputs": [
    {
     "data": {
      "text/plain": [
       "(false,true,true)"
      ]
     },
     "execution_count": 6,
     "metadata": {},
     "output_type": "execute_result"
    }
   ],
   "source": [
    "≪(x,y) = x < 0.1*y\n",
    "50 ≪ 100, 5 ≪ 100, 5 ≤ 50"
   ]
  },
  {
   "cell_type": "code",
   "execution_count": 7,
   "metadata": {
    "collapsed": false
   },
   "outputs": [
    {
     "data": {
      "text/plain": [
       "4x4 Array{Float64,2}:\n",
       " 0.68628   0.553253  0.0       0.0     \n",
       " 0.141211  0.25523   0.0       0.0     \n",
       " 0.0       0.0       0.68628   0.553253\n",
       " 0.0       0.0       0.141211  0.25523 "
      ]
     },
     "execution_count": 7,
     "metadata": {},
     "output_type": "execute_result"
    }
   ],
   "source": [
    "const ⊗ = kron\n",
    "eye(2,2) ⊗ rand(2,2)"
   ]
  },
  {
   "cell_type": "markdown",
   "metadata": {},
   "source": [
    "## Functions and JIT-compilation"
   ]
  },
  {
   "cell_type": "markdown",
   "metadata": {},
   "source": [
    "Functions can be defined in several ways, and *don't require type-declarations*."
   ]
  },
  {
   "cell_type": "code",
   "execution_count": 8,
   "metadata": {
    "collapsed": false
   },
   "outputs": [
    {
     "data": {
      "text/plain": [
       "(anonymous function)"
      ]
     },
     "execution_count": 8,
     "metadata": {},
     "output_type": "execute_result"
    }
   ],
   "source": [
    "# verbose form:\n",
    "function foo(x)\n",
    "    return x + 1\n",
    "end\n",
    "\n",
    "# one-line form:\n",
    "foo(x) = x + 1\n",
    "\n",
    "# anonymous function\n",
    "x -> x + 1"
   ]
  },
  {
   "cell_type": "markdown",
   "metadata": {},
   "source": [
    "The *first time you call* a function with arguments of a particular type, Julia JIT-compiles that function *specialized for that type* with LLVM, which is then cached for subsequent calls for the *same types*."
   ]
  },
  {
   "cell_type": "code",
   "execution_count": 9,
   "metadata": {
    "collapsed": false
   },
   "outputs": [
    {
     "data": {
      "text/plain": [
       "4"
      ]
     },
     "execution_count": 9,
     "metadata": {},
     "output_type": "execute_result"
    }
   ],
   "source": [
    "foo(3) # compiles foo for Int arguments"
   ]
  },
  {
   "cell_type": "code",
   "execution_count": 10,
   "metadata": {
    "collapsed": false
   },
   "outputs": [
    {
     "data": {
      "text/plain": [
       "8"
      ]
     },
     "execution_count": 10,
     "metadata": {},
     "output_type": "execute_result"
    }
   ],
   "source": [
    "foo(7) # re-uses compiled foo(Int)"
   ]
  },
  {
   "cell_type": "code",
   "execution_count": 11,
   "metadata": {
    "collapsed": false
   },
   "outputs": [
    {
     "data": {
      "text/plain": [
       "8.3"
      ]
     },
     "execution_count": 11,
     "metadata": {},
     "output_type": "execute_result"
    }
   ],
   "source": [
    "foo(7.3) # compiles a different version for Float64 arguments"
   ]
  },
  {
   "cell_type": "code",
   "execution_count": 12,
   "metadata": {
    "collapsed": false
   },
   "outputs": [
    {
     "data": {
      "text/plain": [
       "4-element Array{Int64,1}:\n",
       "  2\n",
       "  3\n",
       "  8\n",
       " 10"
      ]
     },
     "execution_count": 12,
     "metadata": {},
     "output_type": "execute_result"
    }
   ],
   "source": [
    "foo([1,2,7,9]) # compiles a different version for Array{Int,1} arguments"
   ]
  }
 ],
 "metadata": {
  "kernelspec": {
   "display_name": "Julia 0.4.6",
   "language": "julia",
   "name": "julia-0.4"
  },
  "language": "Julia",
  "language_info": {
   "file_extension": ".jl",
   "mimetype": "application/julia",
   "name": "julia",
   "version": "0.4.6"
  }
 },
 "nbformat": 4,
 "nbformat_minor": 0
}
