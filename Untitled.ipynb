{
 "cells": [
  {
   "cell_type": "code",
   "execution_count": 1,
   "metadata": {
    "collapsed": false
   },
   "outputs": [
    {
     "data": {
      "text/html": [
       "<dl>\n",
       "\t<dt>$platform</dt>\n",
       "\t\t<dd>'x86_64-pc-linux-gnu'</dd>\n",
       "\t<dt>$arch</dt>\n",
       "\t\t<dd>'x86_64'</dd>\n",
       "\t<dt>$os</dt>\n",
       "\t\t<dd>'linux-gnu'</dd>\n",
       "\t<dt>$system</dt>\n",
       "\t\t<dd>'x86_64, linux-gnu'</dd>\n",
       "\t<dt>$status</dt>\n",
       "\t\t<dd>''</dd>\n",
       "\t<dt>$major</dt>\n",
       "\t\t<dd>'3'</dd>\n",
       "\t<dt>$minor</dt>\n",
       "\t\t<dd>'2.2'</dd>\n",
       "\t<dt>$year</dt>\n",
       "\t\t<dd>'2015'</dd>\n",
       "\t<dt>$month</dt>\n",
       "\t\t<dd>'08'</dd>\n",
       "\t<dt>$day</dt>\n",
       "\t\t<dd>'14'</dd>\n",
       "\t<dt>$svn rev</dt>\n",
       "\t\t<dd>'69053'</dd>\n",
       "\t<dt>$language</dt>\n",
       "\t\t<dd>'R'</dd>\n",
       "\t<dt>$version.string</dt>\n",
       "\t\t<dd>'R version 3.2.2 (2015-08-14)'</dd>\n",
       "\t<dt>$nickname</dt>\n",
       "\t\t<dd>'Fire Safety'</dd>\n",
       "</dl>\n"
      ],
      "text/latex": [
       "\\begin{description}\n",
       "\\item[\\$platform] 'x86_64-pc-linux-gnu'\n",
       "\\item[\\$arch] 'x86_64'\n",
       "\\item[\\$os] 'linux-gnu'\n",
       "\\item[\\$system] 'x86_64, linux-gnu'\n",
       "\\item[\\$status] ''\n",
       "\\item[\\$major] '3'\n",
       "\\item[\\$minor] '2.2'\n",
       "\\item[\\$year] '2015'\n",
       "\\item[\\$month] '08'\n",
       "\\item[\\$day] '14'\n",
       "\\item[\\$svn rev] '69053'\n",
       "\\item[\\$language] 'R'\n",
       "\\item[\\$version.string] 'R version 3.2.2 (2015-08-14)'\n",
       "\\item[\\$nickname] 'Fire Safety'\n",
       "\\end{description}\n"
      ],
      "text/markdown": [
       "$platform\n",
       ":   'x86_64-pc-linux-gnu'\n",
       "$arch\n",
       ":   'x86_64'\n",
       "$os\n",
       ":   'linux-gnu'\n",
       "$system\n",
       ":   'x86_64, linux-gnu'\n",
       "$status\n",
       ":   ''\n",
       "$major\n",
       ":   '3'\n",
       "$minor\n",
       ":   '2.2'\n",
       "$year\n",
       ":   '2015'\n",
       "$month\n",
       ":   '08'\n",
       "$day\n",
       ":   '14'\n",
       "$svn rev\n",
       ":   '69053'\n",
       "$language\n",
       ":   'R'\n",
       "$version.string\n",
       ":   'R version 3.2.2 (2015-08-14)'\n",
       "$nickname\n",
       ":   'Fire Safety'\n",
       "\n",
       "\n"
      ],
      "text/plain": [
       "$platform\n",
       "[1] \"x86_64-pc-linux-gnu\"\n",
       "\n",
       "$arch\n",
       "[1] \"x86_64\"\n",
       "\n",
       "$os\n",
       "[1] \"linux-gnu\"\n",
       "\n",
       "$system\n",
       "[1] \"x86_64, linux-gnu\"\n",
       "\n",
       "$status\n",
       "[1] \"\"\n",
       "\n",
       "$major\n",
       "[1] \"3\"\n",
       "\n",
       "$minor\n",
       "[1] \"2.2\"\n",
       "\n",
       "$year\n",
       "[1] \"2015\"\n",
       "\n",
       "$month\n",
       "[1] \"08\"\n",
       "\n",
       "$day\n",
       "[1] \"14\"\n",
       "\n",
       "$`svn rev`\n",
       "[1] \"69053\"\n",
       "\n",
       "$language\n",
       "[1] \"R\"\n",
       "\n",
       "$version.string\n",
       "[1] \"R version 3.2.2 (2015-08-14)\"\n",
       "\n",
       "$nickname\n",
       "[1] \"Fire Safety\"\n"
      ]
     },
     "execution_count": 1,
     "metadata": {},
     "output_type": "execute_result"
    }
   ],
   "source": [
    "R.Version()"
   ]
  },
  {
   "cell_type": "code",
   "execution_count": null,
   "metadata": {
    "collapsed": true
   },
   "outputs": [],
   "source": []
  }
 ],
 "metadata": {
  "kernelspec": {
   "display_name": "R",
   "language": "R",
   "name": "ir"
  },
  "language_info": {
   "codemirror_mode": "r",
   "file_extension": ".r",
   "mimetype": "text/x-r-source",
   "name": "R",
   "pygments_lexer": "r",
   "version": "3.2.2"
  }
 },
 "nbformat": 4,
 "nbformat_minor": 0
}
